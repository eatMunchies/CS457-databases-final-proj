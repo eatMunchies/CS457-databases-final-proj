{
 "cells": [
  {
   "cell_type": "code",
   "execution_count": 6,
   "metadata": {},
   "outputs": [
    {
     "data": {
      "text/plain": [
       "'\\nAnthony Silva\\nload db with data\\nfirst load data in dataframes\\ncreate ORM classes for each table\\ncreate a session and add data to tables\\n'"
      ]
     },
     "execution_count": 6,
     "metadata": {},
     "output_type": "execute_result"
    }
   ],
   "source": [
    "\"\"\"\n",
    "Anthony Silva\n",
    "load db with data\n",
    "first load data in dataframes\n",
    "create ORM classes for each table\n",
    "create a session and add data to tables\n",
    "\"\"\" "
   ]
  },
  {
   "cell_type": "code",
   "execution_count": 1,
   "metadata": {},
   "outputs": [],
   "source": [
    "# imports \n",
    "import pandas as pd\n",
    "from sqlalchemy import create_engine, Column, Integer, Float, String, ForeignKey\n",
    "from sqlalchemy.ext.declarative import declarative_base\n",
    "from sqlalchemy.orm import sessionmaker\n",
    "from sqlalchemy import Table\n",
    "from sqlalchemy.orm import relationship\n",
    "import psycopg2\n",
    "\n",
    "import os"
   ]
  },
  {
   "cell_type": "code",
   "execution_count": 2,
   "metadata": {},
   "outputs": [
    {
     "name": "stdout",
     "output_type": "stream",
     "text": [
      "         date   open   high     low   close  volume\n",
      "0  2000-08-30  0.879  0.887  0.8770  0.8850    2886\n",
      "1  2000-08-31  0.885  0.888  0.8800  0.8850    1095\n",
      "2  2000-09-01  0.878  0.889  0.8780  0.8890    3449\n",
      "3  2000-09-05  0.896  0.907  0.8950  0.9060    1397\n",
      "4  2000-09-06  0.905  0.906  0.8975  0.9015    1195\n",
      "         date   open   high         low       close  volume\n",
      "0  2000-01-04  428.0  430.0  421.000000  429.700012     632\n",
      "1  2000-01-05  428.0  428.0  416.899994  419.899994     571\n",
      "2  2000-01-06  415.0  417.0  409.000000  412.000000     494\n",
      "3  2000-01-07  408.0  417.0  408.000000  414.000000     130\n",
      "4  2000-01-10  414.0  415.0  414.000000  415.000000      24\n",
      "         date        open   high         low       close  volume\n",
      "0  2000-01-04  445.000000  446.0  439.000000  441.899994     177\n",
      "1  2000-01-05  436.000000  439.0  433.000000  438.100006     319\n",
      "2  2000-01-06  434.500000  437.0  430.200012  435.299988     180\n",
      "3  2000-01-07  437.000000  444.5  436.500000  443.899994     102\n",
      "4  2000-01-10  443.899994  456.0  443.899994  451.950012     143\n",
      "         date   open   high    low  close  volume\n",
      "0  2000-08-30  4.950  4.950  4.895  4.930    2319\n",
      "1  2000-08-31  4.920  5.045  4.920  5.003    1612\n",
      "2  2000-09-01  5.035  5.035  4.985  5.004    1375\n",
      "3  2000-09-05  4.990  5.005  4.975  4.998     856\n",
      "4  2000-09-06  5.000  5.000  4.980  4.983     232\n",
      "         date        open        high         low       close  volume\n",
      "0  2000-08-30  273.899994  273.899994  273.899994  273.899994       0\n",
      "1  2000-08-31  274.799988  278.299988  274.799988  278.299988       0\n",
      "2  2000-09-01  277.000000  277.000000  277.000000  277.000000       0\n",
      "3  2000-09-05  275.799988  275.799988  275.799988  275.799988       2\n",
      "4  2000-09-06  274.200012  274.200012  274.200012  274.200012       0\n"
     ]
    }
   ],
   "source": [
    "# load data into dataframes\n",
    "path = \"./data/individual_data/\"\n",
    "files = os.listdir(path)\n",
    "dfs = []\n",
    "for file in files:\n",
    "    dfs.append(pd.DataFrame(pd.read_csv(path + file)))\n",
    "\n",
    "# visualize data\n",
    "for df in dfs:\n",
    "    print(df.head())"
   ]
  },
  {
   "cell_type": "code",
   "execution_count": 3,
   "metadata": {},
   "outputs": [
    {
     "name": "stderr",
     "output_type": "stream",
     "text": [
      "/tmp/ipykernel_11838/4040052764.py:3: MovedIn20Warning: The ``declarative_base()`` function is now available as sqlalchemy.orm.declarative_base(). (deprecated since: 2.0) (Background on SQLAlchemy 2.0 at: https://sqlalche.me/e/b8d9)\n",
      "  Base = declarative_base()\n"
     ]
    }
   ],
   "source": [
    "# create ORM classes\n",
    "\n",
    "Base = declarative_base()\n",
    "\n",
    "class Gold(Base):\n",
    "    __tablename__ = 'gold'\n",
    "    __table_args__ = {'extend_existing': True, 'schema': 'final'}\n",
    "    date = Column(String, primary_key=True)\n",
    "    open = Column(Float)\n",
    "    close = Column(Float)\n",
    "    high = Column(Float)\n",
    "    low = Column(Float)\n",
    "    volume = Column(Integer)\n",
    "\n",
    "class Silver(Base):\n",
    "    __tablename__ = 'silver'\n",
    "    __table_args__ = {'extend_existing': True, 'schema': 'final'}\n",
    "    date = Column(String, primary_key=True)\n",
    "    open = Column(Float)\n",
    "    close = Column(Float)\n",
    "    high = Column(Float)\n",
    "    low = Column(Float)\n",
    "    volume = Column(Integer)\n",
    "\n",
    "class Platinum(Base):\n",
    "    __tablename__ = 'platinum'\n",
    "    __table_args__ = {'extend_existing': True, 'schema': 'final'}\n",
    "    date = Column(String, primary_key=True)\n",
    "    open = Column(Float)\n",
    "    close = Column(Float)\n",
    "    high = Column(Float)\n",
    "    low = Column(Float)\n",
    "    volume = Column(Integer)\n",
    "\n",
    "class Palladium(Base):\n",
    "    __tablename__ = 'palladium'\n",
    "    __table_args__ = {'extend_existing': True, 'schema': 'final'}\n",
    "    date = Column(String, primary_key=True)\n",
    "    open = Column(Float)\n",
    "    close = Column(Float)\n",
    "    high = Column(Float)\n",
    "    low = Column(Float)\n",
    "    volume = Column(Integer)\n",
    "\n",
    "class Copper(Base):\n",
    "    __tablename__ = 'copper'\n",
    "    __table_args__ = {'extend_existing': True, 'schema': 'final'}\n",
    "    date = Column(String, primary_key=True)\n",
    "    open = Column(Float)\n",
    "    close = Column(Float)\n",
    "    high = Column(Float)\n",
    "    low = Column(Float)\n",
    "    volume = Column(Integer)"
   ]
  },
  {
   "cell_type": "code",
   "execution_count": 4,
   "metadata": {},
   "outputs": [],
   "source": [
    "# create engine\n",
    "\n",
    "# postgres db conn vars\n",
    "db_host = 'localhost'\n",
    "db_port = '5432'\n",
    "db_name = 'postgres'\n",
    "db_user = 'postgres'\n",
    "db_pass = 'password'\n",
    "\n",
    "# create engine\n",
    "engine = create_engine(f'postgresql://{db_user}:{db_pass}@{db_host}:{db_port}/{db_name}')\n",
    "\n",
    "# create tables\n",
    "Base.metadata.create_all(engine)"
   ]
  },
  {
   "cell_type": "code",
   "execution_count": 5,
   "metadata": {},
   "outputs": [],
   "source": [
    "# load data into tables\n",
    "\n",
    "# create session\n",
    "Session = sessionmaker(bind=engine)\n",
    "session = Session()\n",
    "\n",
    "# load data into tables\n",
    "\n",
    "# gold\n",
    "for index, row in dfs[0].iterrows():\n",
    "    session.add(Gold(date=row['date'], open=row['open'], close=row['close'], high=row['high'], low=row['low'], volume=row['volume']))\n",
    "\n",
    "# silver\n",
    "for index, row in dfs[1].iterrows():\n",
    "    session.add(Silver(date=row['date'], open=row['open'], close=row['close'], high=row['high'], low=row['low'], volume=row['volume']))\n",
    "\n",
    "# platinum\n",
    "for index, row in dfs[2].iterrows():\n",
    "    session.add(Platinum(date=row['date'], open=row['open'], close=row['close'], high=row['high'], low=row['low'], volume=row['volume']))\n",
    "\n",
    "# palladium\n",
    "for index, row in dfs[3].iterrows():\n",
    "    session.add(Palladium(date=row['date'], open=row['open'], close=row['close'], high=row['high'], low=row['low'], volume=row['volume']))\n",
    "\n",
    "# copper\n",
    "for index, row in dfs[4].iterrows():\n",
    "    session.add(Copper(date=row['date'], open=row['open'], close=row['close'], high=row['high'], low=row['low'], volume=row['volume']))\n",
    "\n",
    "# commit changes\n",
    "session.commit()\n"
   ]
  },
  {
   "cell_type": "code",
   "execution_count": null,
   "metadata": {},
   "outputs": [],
   "source": []
  }
 ],
 "metadata": {
  "kernelspec": {
   "display_name": "venv",
   "language": "python",
   "name": "python3"
  },
  "language_info": {
   "codemirror_mode": {
    "name": "ipython",
    "version": 3
   },
   "file_extension": ".py",
   "mimetype": "text/x-python",
   "name": "python",
   "nbconvert_exporter": "python",
   "pygments_lexer": "ipython3",
   "version": "3.12.2"
  }
 },
 "nbformat": 4,
 "nbformat_minor": 2
}
